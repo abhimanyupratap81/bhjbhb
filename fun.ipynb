{
  "nbformat": 4,
  "nbformat_minor": 0,
  "metadata": {
    "colab": {
      "provenance": []
    },
    "kernelspec": {
      "name": "python3",
      "display_name": "Python 3"
    },
    "language_info": {
      "name": "python"
    }
  },
  "cells": [
    {
      "cell_type": "code",
      "execution_count": 2,
      "metadata": {
        "colab": {
          "base_uri": "https://localhost:8080/",
          "height": 35
        },
        "id": "i0sgKpC9q6rL",
        "outputId": "63c44951-1926-44eb-b1f2-fa19b0f9f5bc"
      },
      "outputs": [
        {
          "output_type": "execute_result",
          "data": {
            "text/plain": [
              "' \\nfknvrnvjnv v gtubntugntrugntrbgtrwgbtrbgtrib548th54htugn erugbqerfnqfrejgrenfuenfgu4qbt54gbui g48g4u gu5qbt 4ugnu4bg5urbgerybgurbg\\n'"
            ],
            "application/vnd.google.colaboratory.intrinsic+json": {
              "type": "string"
            }
          },
          "metadata": {},
          "execution_count": 2
        }
      ],
      "source": [
        "'''\n",
        "fknvrnvjnv v gtubntugntrugntrbgtrwgbtrbgtrib548th54htugn erugbqerfnqfrejgrenfuenfgu4qbt54gbui g48g4u gu5qbt 4ugnu4bg5urbgerybgurbg\n",
        "'''"
      ]
    },
    {
      "cell_type": "markdown",
      "source": [
        "What is the difference function and method in python?                           \n",
        "    -> jvnfjvnjvnjnjfnvjnjnbjbj\n",
        "\n",
        "> Add blorvnjfvnjnjrnjrfnjrbhbvhv vnure nvurenvure  \n",
        "\n",
        "> Add blockquot\n",
        "\n",
        "\n",
        "\n"
      ],
      "metadata": {
        "id": "j1F5VmXduXRk"
      }
    }
  ]
}